{
  "cells": [
    {
      "cell_type": "markdown",
      "metadata": {
        "id": "view-in-github",
        "colab_type": "text"
      },
      "source": [
        "<a href=\"https://colab.research.google.com/github/mystic23/Alg_Havel_Hakimi/blob/main/Algm_Havel_Hakimi.ipynb\" target=\"_parent\"><img src=\"https://colab.research.google.com/assets/colab-badge.svg\" alt=\"Open In Colab\"/></a>"
      ]
    },
    {
      "cell_type": "markdown",
      "metadata": {
        "id": "1QuS0ay452-G"
      },
      "source": [
        "# Havel-Hakimi - Grafos\n",
        "### (1) Teorema\n",
        "### (2) Algoritmo\n"
      ]
    },
    {
      "cell_type": "markdown",
      "metadata": {
        "id": "Lcb-NK7G67a1"
      },
      "source": [
        "#Teorema\n",
        "\n",
        "  Una secuencia S: d<sub>1</sub>,d<sub>2</sub>, ... , d<sub>n</sub> de números enteros no negativos, con d<sub>1</sub> ≥ d<sub>2</sub> ≥ ... ≥ d<sub>n</sub>, es una secuencia gráfica si, y sólo si, la secuencia  d<sub>2</sub>-1, d<sub>3</sub>-1 , ... , d<sub>*d1+1*</sub> -1,d<sub>*d1+2*</sub> , ..., d<sub>*n*</sub>\n",
        "\n",
        "  [Teorema enlace - Trello](https://trello.com/c/zUDu1mH8/47-teorema-havel-hakimi)\n",
        "\n",
        "\n",
        "- Ejemplo:\n",
        "  S: 6, 5, 4, 3, 3, 3, 2, 0\n",
        "  1. Eliminar el primer elemento **6** reducirá los 6 elementos después del primer elemento en -1 y se obtiene, además, se reorganiza de Mayor a menor si esta desorganizado: \n",
        "    \n",
        "    **S: 4, 3, 2, 2, 2, 1, 0**\n",
        "  \n",
        "  2. Eliminar **4**, se reduce en 4 elementos después del primero en -1, se obtiene:\n",
        "\n",
        "    **S: 2, 1, 1, 1, 1, 0**\n",
        "  \n",
        "  3. Eliminar **2**, se reduce en 2 elementos después del primero en -1, se obtiene:\n",
        "\n",
        "    **S: 0, 0, 1, 1, 0**\n",
        "\n",
        "    Organizado:\n",
        "\n",
        "    **S: 1, 1, 0, 0, 0**\n",
        "\n",
        "  4. Eliminar **1**, se reduce en  1 elementos después del primero en -1, se obtiene:\n",
        "\n",
        "    **S: 0, 0, 0, 0**\n",
        "\n",
        "  \n",
        "  "
      ]
    },
    {
      "cell_type": "markdown",
      "metadata": {
        "id": "F_uqUYLKADv6"
      },
      "source": [
        "# Algoritmo"
      ]
    },
    {
      "cell_type": "code",
      "execution_count": 12,
      "metadata": {
        "colab": {
          "base_uri": "https://localhost:8080/",
          "height": 880
        },
        "id": "H4FQuoSRD11T",
        "outputId": "079a5c31-445f-4e7b-90fd-618ca67032b7"
      },
      "outputs": [
        {
          "output_type": "stream",
          "name": "stdout",
          "text": [
            "La longitud de la secuencia de grados es 8\n",
            "Secuencia intermedia: [6, 5, 4, 3, 3, 3, 2, 0]\n",
            "Extraído: 6\n",
            "Secuencia intermedia: [4, 3, 2, 2, 2, 1, 0]\n",
            "Extraído: 4\n",
            "Secuencia intermedia: [2, 1, 1, 1, 1, 0]\n",
            "Extraído: 2\n",
            "Secuencia intermedia: [1, 1, 0, 0, 0]\n",
            "Extraído: 1\n",
            "Secuencia intermedia: [0, 0, 0, 0]\n",
            "Existe un grafo G con esta secuencia de grados.\n",
            "Secuencia intermedia: [6, 5, 4, 3, 3, 3, 2, 0]\n",
            "Extraído: 6\n",
            "Secuencia intermedia: [4, 3, 2, 2, 2, 1, 0]\n",
            "Extraído: 4\n",
            "Secuencia intermedia: [2, 1, 1, 1, 1, 0]\n",
            "Extraído: 2\n",
            "Secuencia intermedia: [1, 1, 0, 0, 0]\n",
            "Extraído: 1\n",
            "Secuencia intermedia: [0, 0, 0, 0]\n",
            "Existe un grafo G con esta secuencia de grados.\n"
          ]
        },
        {
          "output_type": "display_data",
          "data": {
            "text/plain": [
              "<Figure size 640x480 with 1 Axes>"
            ],
            "image/png": "[encoded data removed]"
          },
          "metadata": {}
        }
      ],
      "source": [
        "import matplotlib.pyplot as plt\n",
        "import networkx as nx\n",
        "\n",
        "def havelHakimi(sequence):\n",
        "\n",
        "    # Comprobar que todos los elementos de la secuencia son enteros\n",
        "    if all(isinstance(degrees, int) for degrees in sequence):\n",
        "       degree_sequence = list(sequence)\n",
        "    else:\n",
        "        return False\n",
        "\n",
        "    # Comprobar si la secuencia está vacía\n",
        "    if len(degree_sequence) == 0:\n",
        "        print(\"La lista está vacía.\")\n",
        "        return True\n",
        "\n",
        "    # Comprobar si la suma de los grados es impar\n",
        "    if sum(degree_sequence) % 2:\n",
        "        print(\"No existe un grafo con esta secuencia de grados. Además, la suma de todos los elementos de la secuencia de grados no es par.\")\n",
        "        return False\n",
        "\n",
        "    # Comprobar si hay algún grado negativo\n",
        "    if min(degree_sequence) < 0:\n",
        "        print(\"No existe ningún grafo con esa secuencia de grados. ¡La secuencia de grados no debe tener números negativos!\")\n",
        "        return False\n",
        "\n",
        "    # Aplicar el algoritmo de Havel-Hakimi para construir la secuencia de grados resultante\n",
        "    while degree_sequence:\n",
        "      degree_sequence.sort()  # Ordenar la secuencia de grados de manera ascendente\n",
        "      degree_sequence.reverse()  # Invertir la secuencia de grados para obtener el orden descendente\n",
        "      print(\"Secuencia intermedia: \" + str(degree_sequence))\n",
        "      for item in degree_sequence:\n",
        "          if item < 0:\n",
        "              print(\"No existe ningún grafo con esta secuencia de grados.\")\n",
        "              return (False, degree_sequence)\n",
        "      d = degree_sequence.pop(0)  # Extraer el primer grado de la secuencia (el más grande)\n",
        "      if d == 0:\n",
        "          print(\"Existe un grafo G con esta secuencia de grados.\")\n",
        "          return (True, degree_sequence)\n",
        "      if d > len(degree_sequence):\n",
        "          print(str(d) + \" grado es demasiado grande para la secuencia.\")\n",
        "          return (False, degree_sequence)\n",
        "      for i in range(0, d):\n",
        "          degree_sequence[i] -= 1  # Restar 1 a los grados de los primeros d vértices de la secuencia\n",
        "      print(\"Extraído: \" + str(d))\n",
        "    return (False, degree_sequence)\n",
        "\n",
        "# Definir la secuencia de grados\n",
        "sequence=[6, 5, 4, 3, 3, 3, 2, 0]\n",
        "n=8\n",
        "print(\"La longitud de la secuencia de grados es {0}\".format(n))\n",
        "\n",
        "# Ejecutar el algoritmo de Havel-Hakimi y generar el grafo resultante si es posible\n",
        "x = havelHakimi(sequence)[0]\n",
        "\n",
        "grados_resultante = havelHakimi(sequence)[1]\n",
        "if x==True:\n",
        "    G = nx.configuration_model(grados_resultante)\n",
        "    nx.draw(G, with_labels=True)\n",
        "    plt.show()\n"
      ]
    }
  ],
  "metadata": {
    "colab": {
      "provenance": [],
      "include_colab_link": true
    },
    "kernelspec": {
      "display_name": "Python 3",
      "name": "python3"
    },
    "language_info": {
      "name": "python"
    }
  },
  "nbformat": 4,
  "nbformat_minor": 0
}