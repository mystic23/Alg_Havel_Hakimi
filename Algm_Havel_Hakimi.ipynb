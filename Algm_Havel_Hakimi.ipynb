{
  "nbformat": 4,
  "nbformat_minor": 0,
  "metadata": {
    "colab": {
      "provenance": [],
      "authorship_tag": "ABX9TyNuLR+3yWy8RC8L/c5820Pb",
      "include_colab_link": true
    },
    "kernelspec": {
      "name": "python3",
      "display_name": "Python 3"
    },
    "language_info": {
      "name": "python"
    }
  },
  "cells": [
    {
      "cell_type": "markdown",
      "metadata": {
        "id": "view-in-github",
        "colab_type": "text"
      },
      "source": [
        "<a href=\"https://colab.research.google.com/github/mystic23/Alg_Havel_Hakimi/blob/main/Algm_Havel_Hakimi.ipynb\" target=\"_parent\"><img src=\"https://colab.research.google.com/assets/colab-badge.svg\" alt=\"Open In Colab\"/></a>"
      ]
    },
    {
      "cell_type": "markdown",
      "source": [
        "# Havel-Hakimi - Grafos\n",
        "### (1) Teorema\n",
        "### (2) Algoritmo\n"
      ],
      "metadata": {
        "id": "1QuS0ay452-G"
      }
    },
    {
      "cell_type": "markdown",
      "source": [
        "#Teorema\n",
        "\n",
        "  Una secuencia S: d<sub>1</sub>,d<sub>2</sub>, ... , d<sub>n</sub> de números enteros no negativos, con d<sub>1</sub> ≥ d<sub>2</sub> ≥ ... ≥ d<sub>n</sub>, es una secuencia gráfica si, y sólo si, la secuencia  d<sub>2</sub>-1, d<sub>3</sub>-1 , ... , d<sub>*d1+1*</sub> -1,d<sub>*d1+2*</sub> , ..., d<sub>*n*</sub>\n",
        "\n",
        "  [Teorema enlace - Trello](https://trello.com/c/zUDu1mH8/47-teorema-havel-hakimi)\n",
        "\n",
        "\n",
        "- Ejemplo:\n",
        "  S: 6, 5, 4, 3, 3, 3, 2, 0\n",
        "  1. Eliminar el primer elemento **6** reducirá los 6 elementos después del primer elemento en -1 y se obtiene, además, se reorganiza de Mayor a menor si esta desorganizado: \n",
        "    \n",
        "    **S: 4, 3, 2, 2, 2, 1, 0**\n",
        "  \n",
        "  2. Eliminar **4**, se reduce en 4 elementos después del primero en -1, se obtiene:\n",
        "\n",
        "    **S: 2, 1, 1, 1, 1, 0**\n",
        "  \n",
        "  3. Eliminar **2**, se reduce en 2 elementos después del primero en -1, se obtiene:\n",
        "\n",
        "    **S: 0, 0, 1, 1, 0**\n",
        "\n",
        "    Organizado:\n",
        "\n",
        "    **S: 1, 1, 0, 0, 0**\n",
        "\n",
        "  4. Eliminar **1**, se reduce en  1 elementos después del primero en -1, se obtiene:\n",
        "\n",
        "    **S: 0, 0, 0, 0**\n",
        "\n",
        "  \n",
        "  "
      ],
      "metadata": {
        "id": "Lcb-NK7G67a1"
      }
    },
    {
      "cell_type": "markdown",
      "source": [
        "# Algoritmo"
      ],
      "metadata": {
        "id": "F_uqUYLKADv6"
      }
    },
    {
      "cell_type": "code",
      "source": [
        "import matplotlib.pyplot as plt\n",
        "import networkx as nx\n",
        "import random\n",
        "import time\n",
        "\n",
        "def havelHakimi(sequence):\n",
        "\n",
        "    if all(isinstance(degrees, int) for degrees in sequence):\n",
        "       degree_sequence = list(sequence)\n",
        "\n",
        "    else:\n",
        "        return False\n",
        "    if len(degree_sequence) == 0:\n",
        "        print(\"la lista esta vacía\")\n",
        "        return True\n",
        "\n",
        "    if sum(degree_sequence) % 2:\n",
        "        print(\"No existe un grafo con esta secuencia de grados, además, la suma de todos los elementos de la secuencia de grados no es par.\")\n",
        "        return False\n",
        "    if min(degree_sequence) < 0:\n",
        "        print(\"No existe ningún grafo con esa secuencia de grados. ¡La secuencia de grados no debe tener números negativos!\")\n",
        "        return False  # negative degree\n",
        "\n",
        "    while degree_sequence:\n",
        "        degree_sequence.sort()\n",
        "        degree_sequence.reverse()\n",
        "        print(\"Intermediate Sequence \" + str(degree_sequence))\n",
        "        for item in degree_sequence:\n",
        "            if item < 0:\n",
        "                print(\"No graph exists with this degree sequence.\")\n",
        "                return (False, degree_sequence)\n",
        "        d = degree_sequence.pop(0)\n",
        "        if d == 0:\n",
        "            print(\"There exists a graph G with this degree sequence\")\n",
        "            return (True, degree_sequence)\n",
        "        if d > len(degree_sequence):\n",
        "            print(str(d) + \" dgree is too large for sequence!\")\n",
        "            return (False, degree_sequence)\n",
        "        for i in range(0, d):\n",
        "            degree_sequence[i] -= 1\n",
        "        print(\"Popped: \" + str(d))\n",
        "    return (False, degree_sequence)\n",
        "\n",
        "\n",
        "\n",
        "\n",
        "sequence=[6, 5, 4, 3, 3, 3, 2, 0]\n",
        "n=8\n",
        "print(\"the length of the degree sequence is {0}\".format(n))\n",
        "\n",
        "x = havelHakimi(sequence)[0]\n",
        "grados_resultante = havelHakimi(sequence)[1]\n",
        "\n",
        "if x==True:\n",
        "    G = nx.configuration_model(grados_resultante)\n",
        "\n",
        "    # Visualizar el grafo\n",
        "    nx.draw(G, with_labels=True)\n",
        "    plt.show()"
      ],
      "metadata": {
        "colab": {
          "base_uri": "https://localhost:8080/",
          "height": 880
        },
        "id": "H4FQuoSRD11T",
        "outputId": "4d64efd3-3a9f-4051-8fe6-f5f03e3ce6e8"
      },
      "execution_count": 31,
      "outputs": [
        {
          "output_type": "stream",
          "name": "stdout",
          "text": [
            "the length of the degree sequence is 8\n",
            "Intermediate Sequence [6, 5, 4, 3, 3, 3, 2, 0]\n",
            "Popped: 6\n",
            "Intermediate Sequence [4, 3, 2, 2, 2, 1, 0]\n",
            "Popped: 4\n",
            "Intermediate Sequence [2, 1, 1, 1, 1, 0]\n",
            "Popped: 2\n",
            "Intermediate Sequence [1, 1, 0, 0, 0]\n",
            "Popped: 1\n",
            "Intermediate Sequence [0, 0, 0, 0]\n",
            "There exists a graph G with this degree sequence\n",
            "Intermediate Sequence [6, 5, 4, 3, 3, 3, 2, 0]\n",
            "Popped: 6\n",
            "Intermediate Sequence [4, 3, 2, 2, 2, 1, 0]\n",
            "Popped: 4\n",
            "Intermediate Sequence [2, 1, 1, 1, 1, 0]\n",
            "Popped: 2\n",
            "Intermediate Sequence [1, 1, 0, 0, 0]\n",
            "Popped: 1\n",
            "Intermediate Sequence [0, 0, 0, 0]\n",
            "There exists a graph G with this degree sequence\n"
          ]
        },
        {
          "output_type": "display_data",
          "data": {
            "text/plain": [
              "<Figure size 640x480 with 1 Axes>"
            ],
            "image/png": "[encoded data removed]"
          },
          "metadata": {}
        }
      ]
    }
  ]
}